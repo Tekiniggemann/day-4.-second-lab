{
 "cells": [
  {
   "cell_type": "code",
   "execution_count": 1,
   "id": "761d8ab4",
   "metadata": {},
   "outputs": [
    {
     "data": {
      "text/html": [
       "<div>\n",
       "<style scoped>\n",
       "    .dataframe tbody tr th:only-of-type {\n",
       "        vertical-align: middle;\n",
       "    }\n",
       "\n",
       "    .dataframe tbody tr th {\n",
       "        vertical-align: top;\n",
       "    }\n",
       "\n",
       "    .dataframe thead th {\n",
       "        text-align: right;\n",
       "    }\n",
       "</style>\n",
       "<table border=\"1\" class=\"dataframe\">\n",
       "  <thead>\n",
       "    <tr style=\"text-align: right;\">\n",
       "      <th></th>\n",
       "      <th>Unnamed: 0</th>\n",
       "      <th>Customer</th>\n",
       "      <th>State</th>\n",
       "      <th>Customer Lifetime Value</th>\n",
       "      <th>Response</th>\n",
       "      <th>Coverage</th>\n",
       "      <th>Education</th>\n",
       "      <th>Effective To Date</th>\n",
       "      <th>EmploymentStatus</th>\n",
       "      <th>Gender</th>\n",
       "      <th>...</th>\n",
       "      <th>Number of Open Complaints</th>\n",
       "      <th>Number of Policies</th>\n",
       "      <th>Policy Type</th>\n",
       "      <th>Policy</th>\n",
       "      <th>Renew Offer Type</th>\n",
       "      <th>Sales Channel</th>\n",
       "      <th>Total Claim Amount</th>\n",
       "      <th>Vehicle Class</th>\n",
       "      <th>Vehicle Size</th>\n",
       "      <th>Vehicle Type</th>\n",
       "    </tr>\n",
       "  </thead>\n",
       "  <tbody>\n",
       "    <tr>\n",
       "      <th>0</th>\n",
       "      <td>0</td>\n",
       "      <td>DK49336</td>\n",
       "      <td>Arizona</td>\n",
       "      <td>4809.216960</td>\n",
       "      <td>No</td>\n",
       "      <td>Basic</td>\n",
       "      <td>College</td>\n",
       "      <td>2/18/11</td>\n",
       "      <td>Employed</td>\n",
       "      <td>M</td>\n",
       "      <td>...</td>\n",
       "      <td>0.0</td>\n",
       "      <td>9</td>\n",
       "      <td>Corporate Auto</td>\n",
       "      <td>Corporate L3</td>\n",
       "      <td>Offer3</td>\n",
       "      <td>Agent</td>\n",
       "      <td>292.800000</td>\n",
       "      <td>Four-Door Car</td>\n",
       "      <td>Medsize</td>\n",
       "      <td>NaN</td>\n",
       "    </tr>\n",
       "    <tr>\n",
       "      <th>1</th>\n",
       "      <td>1</td>\n",
       "      <td>KX64629</td>\n",
       "      <td>California</td>\n",
       "      <td>2228.525238</td>\n",
       "      <td>No</td>\n",
       "      <td>Basic</td>\n",
       "      <td>College</td>\n",
       "      <td>1/18/11</td>\n",
       "      <td>Unemployed</td>\n",
       "      <td>F</td>\n",
       "      <td>...</td>\n",
       "      <td>0.0</td>\n",
       "      <td>1</td>\n",
       "      <td>Personal Auto</td>\n",
       "      <td>Personal L3</td>\n",
       "      <td>Offer4</td>\n",
       "      <td>Call Center</td>\n",
       "      <td>744.924331</td>\n",
       "      <td>Four-Door Car</td>\n",
       "      <td>Medsize</td>\n",
       "      <td>NaN</td>\n",
       "    </tr>\n",
       "    <tr>\n",
       "      <th>2</th>\n",
       "      <td>2</td>\n",
       "      <td>LZ68649</td>\n",
       "      <td>Washington</td>\n",
       "      <td>14947.917300</td>\n",
       "      <td>No</td>\n",
       "      <td>Basic</td>\n",
       "      <td>Bachelor</td>\n",
       "      <td>2/10/11</td>\n",
       "      <td>Employed</td>\n",
       "      <td>M</td>\n",
       "      <td>...</td>\n",
       "      <td>0.0</td>\n",
       "      <td>2</td>\n",
       "      <td>Personal Auto</td>\n",
       "      <td>Personal L3</td>\n",
       "      <td>Offer3</td>\n",
       "      <td>Call Center</td>\n",
       "      <td>480.000000</td>\n",
       "      <td>SUV</td>\n",
       "      <td>Medsize</td>\n",
       "      <td>A</td>\n",
       "    </tr>\n",
       "    <tr>\n",
       "      <th>3</th>\n",
       "      <td>3</td>\n",
       "      <td>XL78013</td>\n",
       "      <td>Oregon</td>\n",
       "      <td>22332.439460</td>\n",
       "      <td>Yes</td>\n",
       "      <td>Extended</td>\n",
       "      <td>College</td>\n",
       "      <td>1/11/11</td>\n",
       "      <td>Employed</td>\n",
       "      <td>M</td>\n",
       "      <td>...</td>\n",
       "      <td>0.0</td>\n",
       "      <td>2</td>\n",
       "      <td>Corporate Auto</td>\n",
       "      <td>Corporate L3</td>\n",
       "      <td>Offer2</td>\n",
       "      <td>Branch</td>\n",
       "      <td>484.013411</td>\n",
       "      <td>Four-Door Car</td>\n",
       "      <td>Medsize</td>\n",
       "      <td>A</td>\n",
       "    </tr>\n",
       "    <tr>\n",
       "      <th>4</th>\n",
       "      <td>4</td>\n",
       "      <td>QA50777</td>\n",
       "      <td>Oregon</td>\n",
       "      <td>9025.067525</td>\n",
       "      <td>No</td>\n",
       "      <td>Premium</td>\n",
       "      <td>Bachelor</td>\n",
       "      <td>1/17/11</td>\n",
       "      <td>Medical Leave</td>\n",
       "      <td>F</td>\n",
       "      <td>...</td>\n",
       "      <td>NaN</td>\n",
       "      <td>7</td>\n",
       "      <td>Personal Auto</td>\n",
       "      <td>Personal L2</td>\n",
       "      <td>Offer1</td>\n",
       "      <td>Branch</td>\n",
       "      <td>707.925645</td>\n",
       "      <td>Four-Door Car</td>\n",
       "      <td>Medsize</td>\n",
       "      <td>NaN</td>\n",
       "    </tr>\n",
       "  </tbody>\n",
       "</table>\n",
       "<p>5 rows × 26 columns</p>\n",
       "</div>"
      ],
      "text/plain": [
       "   Unnamed: 0 Customer       State  Customer Lifetime Value Response  \\\n",
       "0           0  DK49336     Arizona              4809.216960       No   \n",
       "1           1  KX64629  California              2228.525238       No   \n",
       "2           2  LZ68649  Washington             14947.917300       No   \n",
       "3           3  XL78013      Oregon             22332.439460      Yes   \n",
       "4           4  QA50777      Oregon              9025.067525       No   \n",
       "\n",
       "   Coverage Education Effective To Date EmploymentStatus Gender  ...  \\\n",
       "0     Basic   College           2/18/11         Employed      M  ...   \n",
       "1     Basic   College           1/18/11       Unemployed      F  ...   \n",
       "2     Basic  Bachelor           2/10/11         Employed      M  ...   \n",
       "3  Extended   College           1/11/11         Employed      M  ...   \n",
       "4   Premium  Bachelor           1/17/11    Medical Leave      F  ...   \n",
       "\n",
       "   Number of Open Complaints Number of Policies     Policy Type        Policy  \\\n",
       "0                        0.0                  9  Corporate Auto  Corporate L3   \n",
       "1                        0.0                  1   Personal Auto   Personal L3   \n",
       "2                        0.0                  2   Personal Auto   Personal L3   \n",
       "3                        0.0                  2  Corporate Auto  Corporate L3   \n",
       "4                        NaN                  7   Personal Auto   Personal L2   \n",
       "\n",
       "   Renew Offer Type  Sales Channel  Total Claim Amount  Vehicle Class  \\\n",
       "0            Offer3          Agent          292.800000  Four-Door Car   \n",
       "1            Offer4    Call Center          744.924331  Four-Door Car   \n",
       "2            Offer3    Call Center          480.000000            SUV   \n",
       "3            Offer2         Branch          484.013411  Four-Door Car   \n",
       "4            Offer1         Branch          707.925645  Four-Door Car   \n",
       "\n",
       "  Vehicle Size Vehicle Type  \n",
       "0      Medsize          NaN  \n",
       "1      Medsize          NaN  \n",
       "2      Medsize            A  \n",
       "3      Medsize            A  \n",
       "4      Medsize          NaN  \n",
       "\n",
       "[5 rows x 26 columns]"
      ]
     },
     "metadata": {},
     "output_type": "display_data"
    },
    {
     "data": {
      "text/plain": [
       "(10910, 26)"
      ]
     },
     "metadata": {},
     "output_type": "display_data"
    }
   ],
   "source": [
    "import pandas as pd\n",
    "import numpy as np\n",
    "file = pd.read_csv('./marketing_customer_analysis.csv')\n",
    "display(file.head())\n",
    "display(file.shape)"
   ]
  },
  {
   "cell_type": "code",
   "execution_count": 2,
   "id": "5b3664b0",
   "metadata": {},
   "outputs": [
    {
     "data": {
      "text/html": [
       "<div>\n",
       "<style scoped>\n",
       "    .dataframe tbody tr th:only-of-type {\n",
       "        vertical-align: middle;\n",
       "    }\n",
       "\n",
       "    .dataframe tbody tr th {\n",
       "        vertical-align: top;\n",
       "    }\n",
       "\n",
       "    .dataframe thead th {\n",
       "        text-align: right;\n",
       "    }\n",
       "</style>\n",
       "<table border=\"1\" class=\"dataframe\">\n",
       "  <thead>\n",
       "    <tr style=\"text-align: right;\">\n",
       "      <th></th>\n",
       "      <th>Customer</th>\n",
       "      <th>State</th>\n",
       "      <th>Customer Lifetime Value</th>\n",
       "      <th>Response</th>\n",
       "      <th>Coverage</th>\n",
       "      <th>Education</th>\n",
       "      <th>Effective To Date</th>\n",
       "      <th>EmploymentStatus</th>\n",
       "      <th>Gender</th>\n",
       "      <th>Income</th>\n",
       "      <th>...</th>\n",
       "      <th>Number of Open Complaints</th>\n",
       "      <th>Number of Policies</th>\n",
       "      <th>Policy Type</th>\n",
       "      <th>Policy</th>\n",
       "      <th>Renew Offer Type</th>\n",
       "      <th>Sales Channel</th>\n",
       "      <th>Total Claim Amount</th>\n",
       "      <th>Vehicle Class</th>\n",
       "      <th>Vehicle Size</th>\n",
       "      <th>Vehicle Type</th>\n",
       "    </tr>\n",
       "  </thead>\n",
       "  <tbody>\n",
       "    <tr>\n",
       "      <th>0</th>\n",
       "      <td>DK49336</td>\n",
       "      <td>Arizona</td>\n",
       "      <td>4809.216960</td>\n",
       "      <td>No</td>\n",
       "      <td>Basic</td>\n",
       "      <td>College</td>\n",
       "      <td>2/18/11</td>\n",
       "      <td>Employed</td>\n",
       "      <td>M</td>\n",
       "      <td>48029</td>\n",
       "      <td>...</td>\n",
       "      <td>0.0</td>\n",
       "      <td>9</td>\n",
       "      <td>Corporate Auto</td>\n",
       "      <td>Corporate L3</td>\n",
       "      <td>Offer3</td>\n",
       "      <td>Agent</td>\n",
       "      <td>292.800000</td>\n",
       "      <td>Four-Door Car</td>\n",
       "      <td>Medsize</td>\n",
       "      <td>NaN</td>\n",
       "    </tr>\n",
       "    <tr>\n",
       "      <th>1</th>\n",
       "      <td>KX64629</td>\n",
       "      <td>California</td>\n",
       "      <td>2228.525238</td>\n",
       "      <td>No</td>\n",
       "      <td>Basic</td>\n",
       "      <td>College</td>\n",
       "      <td>1/18/11</td>\n",
       "      <td>Unemployed</td>\n",
       "      <td>F</td>\n",
       "      <td>0</td>\n",
       "      <td>...</td>\n",
       "      <td>0.0</td>\n",
       "      <td>1</td>\n",
       "      <td>Personal Auto</td>\n",
       "      <td>Personal L3</td>\n",
       "      <td>Offer4</td>\n",
       "      <td>Call Center</td>\n",
       "      <td>744.924331</td>\n",
       "      <td>Four-Door Car</td>\n",
       "      <td>Medsize</td>\n",
       "      <td>NaN</td>\n",
       "    </tr>\n",
       "    <tr>\n",
       "      <th>2</th>\n",
       "      <td>LZ68649</td>\n",
       "      <td>Washington</td>\n",
       "      <td>14947.917300</td>\n",
       "      <td>No</td>\n",
       "      <td>Basic</td>\n",
       "      <td>Bachelor</td>\n",
       "      <td>2/10/11</td>\n",
       "      <td>Employed</td>\n",
       "      <td>M</td>\n",
       "      <td>22139</td>\n",
       "      <td>...</td>\n",
       "      <td>0.0</td>\n",
       "      <td>2</td>\n",
       "      <td>Personal Auto</td>\n",
       "      <td>Personal L3</td>\n",
       "      <td>Offer3</td>\n",
       "      <td>Call Center</td>\n",
       "      <td>480.000000</td>\n",
       "      <td>SUV</td>\n",
       "      <td>Medsize</td>\n",
       "      <td>A</td>\n",
       "    </tr>\n",
       "    <tr>\n",
       "      <th>3</th>\n",
       "      <td>XL78013</td>\n",
       "      <td>Oregon</td>\n",
       "      <td>22332.439460</td>\n",
       "      <td>Yes</td>\n",
       "      <td>Extended</td>\n",
       "      <td>College</td>\n",
       "      <td>1/11/11</td>\n",
       "      <td>Employed</td>\n",
       "      <td>M</td>\n",
       "      <td>49078</td>\n",
       "      <td>...</td>\n",
       "      <td>0.0</td>\n",
       "      <td>2</td>\n",
       "      <td>Corporate Auto</td>\n",
       "      <td>Corporate L3</td>\n",
       "      <td>Offer2</td>\n",
       "      <td>Branch</td>\n",
       "      <td>484.013411</td>\n",
       "      <td>Four-Door Car</td>\n",
       "      <td>Medsize</td>\n",
       "      <td>A</td>\n",
       "    </tr>\n",
       "    <tr>\n",
       "      <th>4</th>\n",
       "      <td>QA50777</td>\n",
       "      <td>Oregon</td>\n",
       "      <td>9025.067525</td>\n",
       "      <td>No</td>\n",
       "      <td>Premium</td>\n",
       "      <td>Bachelor</td>\n",
       "      <td>1/17/11</td>\n",
       "      <td>Medical Leave</td>\n",
       "      <td>F</td>\n",
       "      <td>23675</td>\n",
       "      <td>...</td>\n",
       "      <td>NaN</td>\n",
       "      <td>7</td>\n",
       "      <td>Personal Auto</td>\n",
       "      <td>Personal L2</td>\n",
       "      <td>Offer1</td>\n",
       "      <td>Branch</td>\n",
       "      <td>707.925645</td>\n",
       "      <td>Four-Door Car</td>\n",
       "      <td>Medsize</td>\n",
       "      <td>NaN</td>\n",
       "    </tr>\n",
       "  </tbody>\n",
       "</table>\n",
       "<p>5 rows × 25 columns</p>\n",
       "</div>"
      ],
      "text/plain": [
       "  Customer       State  Customer Lifetime Value Response  Coverage Education  \\\n",
       "0  DK49336     Arizona              4809.216960       No     Basic   College   \n",
       "1  KX64629  California              2228.525238       No     Basic   College   \n",
       "2  LZ68649  Washington             14947.917300       No     Basic  Bachelor   \n",
       "3  XL78013      Oregon             22332.439460      Yes  Extended   College   \n",
       "4  QA50777      Oregon              9025.067525       No   Premium  Bachelor   \n",
       "\n",
       "  Effective To Date EmploymentStatus Gender  Income  ...  \\\n",
       "0           2/18/11         Employed      M   48029  ...   \n",
       "1           1/18/11       Unemployed      F       0  ...   \n",
       "2           2/10/11         Employed      M   22139  ...   \n",
       "3           1/11/11         Employed      M   49078  ...   \n",
       "4           1/17/11    Medical Leave      F   23675  ...   \n",
       "\n",
       "  Number of Open Complaints Number of Policies     Policy Type        Policy  \\\n",
       "0                       0.0                  9  Corporate Auto  Corporate L3   \n",
       "1                       0.0                  1   Personal Auto   Personal L3   \n",
       "2                       0.0                  2   Personal Auto   Personal L3   \n",
       "3                       0.0                  2  Corporate Auto  Corporate L3   \n",
       "4                       NaN                  7   Personal Auto   Personal L2   \n",
       "\n",
       "   Renew Offer Type  Sales Channel  Total Claim Amount  Vehicle Class  \\\n",
       "0            Offer3          Agent          292.800000  Four-Door Car   \n",
       "1            Offer4    Call Center          744.924331  Four-Door Car   \n",
       "2            Offer3    Call Center          480.000000            SUV   \n",
       "3            Offer2         Branch          484.013411  Four-Door Car   \n",
       "4            Offer1         Branch          707.925645  Four-Door Car   \n",
       "\n",
       "  Vehicle Size Vehicle Type  \n",
       "0      Medsize          NaN  \n",
       "1      Medsize          NaN  \n",
       "2      Medsize            A  \n",
       "3      Medsize            A  \n",
       "4      Medsize          NaN  \n",
       "\n",
       "[5 rows x 25 columns]"
      ]
     },
     "execution_count": 2,
     "metadata": {},
     "output_type": "execute_result"
    }
   ],
   "source": [
    "file = file.drop(['Unnamed: 0'], axis=1)\n",
    "file.head()"
   ]
  },
  {
   "cell_type": "code",
   "execution_count": 3,
   "id": "ef20fff6",
   "metadata": {},
   "outputs": [
    {
     "data": {
      "text/plain": [
       "Customer                          object\n",
       "State                             object\n",
       "Customer Lifetime Value          float64\n",
       "Response                          object\n",
       "Coverage                          object\n",
       "Education                         object\n",
       "Effective To Date                 object\n",
       "EmploymentStatus                  object\n",
       "Gender                            object\n",
       "Income                             int64\n",
       "Location Code                     object\n",
       "Marital Status                    object\n",
       "Monthly Premium Auto               int64\n",
       "Months Since Last Claim          float64\n",
       "Months Since Policy Inception      int64\n",
       "Number of Open Complaints        float64\n",
       "Number of Policies                 int64\n",
       "Policy Type                       object\n",
       "Policy                            object\n",
       "Renew Offer Type                  object\n",
       "Sales Channel                     object\n",
       "Total Claim Amount               float64\n",
       "Vehicle Class                     object\n",
       "Vehicle Size                      object\n",
       "Vehicle Type                      object\n",
       "dtype: object"
      ]
     },
     "execution_count": 3,
     "metadata": {},
     "output_type": "execute_result"
    }
   ],
   "source": [
    "file.dtypes"
   ]
  },
  {
   "cell_type": "code",
   "execution_count": 4,
   "id": "5f9e3083",
   "metadata": {},
   "outputs": [
    {
     "data": {
      "text/html": [
       "<div>\n",
       "<style scoped>\n",
       "    .dataframe tbody tr th:only-of-type {\n",
       "        vertical-align: middle;\n",
       "    }\n",
       "\n",
       "    .dataframe tbody tr th {\n",
       "        vertical-align: top;\n",
       "    }\n",
       "\n",
       "    .dataframe thead th {\n",
       "        text-align: right;\n",
       "    }\n",
       "</style>\n",
       "<table border=\"1\" class=\"dataframe\">\n",
       "  <thead>\n",
       "    <tr style=\"text-align: right;\">\n",
       "      <th></th>\n",
       "      <th>Customer Lifetime Value</th>\n",
       "      <th>Income</th>\n",
       "      <th>Monthly Premium Auto</th>\n",
       "      <th>Months Since Last Claim</th>\n",
       "      <th>Months Since Policy Inception</th>\n",
       "      <th>Number of Open Complaints</th>\n",
       "      <th>Number of Policies</th>\n",
       "      <th>Total Claim Amount</th>\n",
       "    </tr>\n",
       "  </thead>\n",
       "  <tbody>\n",
       "    <tr>\n",
       "      <th>0</th>\n",
       "      <td>4809.216960</td>\n",
       "      <td>48029</td>\n",
       "      <td>61</td>\n",
       "      <td>7.0</td>\n",
       "      <td>52</td>\n",
       "      <td>0.0</td>\n",
       "      <td>9</td>\n",
       "      <td>292.800000</td>\n",
       "    </tr>\n",
       "    <tr>\n",
       "      <th>1</th>\n",
       "      <td>2228.525238</td>\n",
       "      <td>0</td>\n",
       "      <td>64</td>\n",
       "      <td>3.0</td>\n",
       "      <td>26</td>\n",
       "      <td>0.0</td>\n",
       "      <td>1</td>\n",
       "      <td>744.924331</td>\n",
       "    </tr>\n",
       "    <tr>\n",
       "      <th>2</th>\n",
       "      <td>14947.917300</td>\n",
       "      <td>22139</td>\n",
       "      <td>100</td>\n",
       "      <td>34.0</td>\n",
       "      <td>31</td>\n",
       "      <td>0.0</td>\n",
       "      <td>2</td>\n",
       "      <td>480.000000</td>\n",
       "    </tr>\n",
       "    <tr>\n",
       "      <th>3</th>\n",
       "      <td>22332.439460</td>\n",
       "      <td>49078</td>\n",
       "      <td>97</td>\n",
       "      <td>10.0</td>\n",
       "      <td>3</td>\n",
       "      <td>0.0</td>\n",
       "      <td>2</td>\n",
       "      <td>484.013411</td>\n",
       "    </tr>\n",
       "    <tr>\n",
       "      <th>4</th>\n",
       "      <td>9025.067525</td>\n",
       "      <td>23675</td>\n",
       "      <td>117</td>\n",
       "      <td>NaN</td>\n",
       "      <td>31</td>\n",
       "      <td>NaN</td>\n",
       "      <td>7</td>\n",
       "      <td>707.925645</td>\n",
       "    </tr>\n",
       "    <tr>\n",
       "      <th>...</th>\n",
       "      <td>...</td>\n",
       "      <td>...</td>\n",
       "      <td>...</td>\n",
       "      <td>...</td>\n",
       "      <td>...</td>\n",
       "      <td>...</td>\n",
       "      <td>...</td>\n",
       "      <td>...</td>\n",
       "    </tr>\n",
       "    <tr>\n",
       "      <th>10905</th>\n",
       "      <td>15563.369440</td>\n",
       "      <td>0</td>\n",
       "      <td>253</td>\n",
       "      <td>NaN</td>\n",
       "      <td>40</td>\n",
       "      <td>NaN</td>\n",
       "      <td>7</td>\n",
       "      <td>1214.400000</td>\n",
       "    </tr>\n",
       "    <tr>\n",
       "      <th>10906</th>\n",
       "      <td>5259.444853</td>\n",
       "      <td>61146</td>\n",
       "      <td>65</td>\n",
       "      <td>7.0</td>\n",
       "      <td>68</td>\n",
       "      <td>0.0</td>\n",
       "      <td>6</td>\n",
       "      <td>273.018929</td>\n",
       "    </tr>\n",
       "    <tr>\n",
       "      <th>10907</th>\n",
       "      <td>23893.304100</td>\n",
       "      <td>39837</td>\n",
       "      <td>201</td>\n",
       "      <td>11.0</td>\n",
       "      <td>63</td>\n",
       "      <td>0.0</td>\n",
       "      <td>2</td>\n",
       "      <td>381.306996</td>\n",
       "    </tr>\n",
       "    <tr>\n",
       "      <th>10908</th>\n",
       "      <td>11971.977650</td>\n",
       "      <td>64195</td>\n",
       "      <td>158</td>\n",
       "      <td>0.0</td>\n",
       "      <td>27</td>\n",
       "      <td>4.0</td>\n",
       "      <td>6</td>\n",
       "      <td>618.288849</td>\n",
       "    </tr>\n",
       "    <tr>\n",
       "      <th>10909</th>\n",
       "      <td>6857.519928</td>\n",
       "      <td>0</td>\n",
       "      <td>101</td>\n",
       "      <td>31.0</td>\n",
       "      <td>1</td>\n",
       "      <td>0.0</td>\n",
       "      <td>3</td>\n",
       "      <td>1021.719397</td>\n",
       "    </tr>\n",
       "  </tbody>\n",
       "</table>\n",
       "<p>10910 rows × 8 columns</p>\n",
       "</div>"
      ],
      "text/plain": [
       "       Customer Lifetime Value  Income  Monthly Premium Auto  \\\n",
       "0                  4809.216960   48029                    61   \n",
       "1                  2228.525238       0                    64   \n",
       "2                 14947.917300   22139                   100   \n",
       "3                 22332.439460   49078                    97   \n",
       "4                  9025.067525   23675                   117   \n",
       "...                        ...     ...                   ...   \n",
       "10905             15563.369440       0                   253   \n",
       "10906              5259.444853   61146                    65   \n",
       "10907             23893.304100   39837                   201   \n",
       "10908             11971.977650   64195                   158   \n",
       "10909              6857.519928       0                   101   \n",
       "\n",
       "       Months Since Last Claim  Months Since Policy Inception  \\\n",
       "0                          7.0                             52   \n",
       "1                          3.0                             26   \n",
       "2                         34.0                             31   \n",
       "3                         10.0                              3   \n",
       "4                          NaN                             31   \n",
       "...                        ...                            ...   \n",
       "10905                      NaN                             40   \n",
       "10906                      7.0                             68   \n",
       "10907                     11.0                             63   \n",
       "10908                      0.0                             27   \n",
       "10909                     31.0                              1   \n",
       "\n",
       "       Number of Open Complaints  Number of Policies  Total Claim Amount  \n",
       "0                            0.0                   9          292.800000  \n",
       "1                            0.0                   1          744.924331  \n",
       "2                            0.0                   2          480.000000  \n",
       "3                            0.0                   2          484.013411  \n",
       "4                            NaN                   7          707.925645  \n",
       "...                          ...                 ...                 ...  \n",
       "10905                        NaN                   7         1214.400000  \n",
       "10906                        0.0                   6          273.018929  \n",
       "10907                        0.0                   2          381.306996  \n",
       "10908                        4.0                   6          618.288849  \n",
       "10909                        0.0                   3         1021.719397  \n",
       "\n",
       "[10910 rows x 8 columns]"
      ]
     },
     "execution_count": 4,
     "metadata": {},
     "output_type": "execute_result"
    }
   ],
   "source": [
    "numerical = file.select_dtypes(include='number')\n",
    "numerical"
   ]
  },
  {
   "cell_type": "code",
   "execution_count": null,
   "id": "e9da36b4",
   "metadata": {},
   "outputs": [],
   "source": []
  },
  {
   "cell_type": "code",
   "execution_count": 5,
   "id": "15c422b6",
   "metadata": {},
   "outputs": [
    {
     "data": {
      "text/html": [
       "<div>\n",
       "<style scoped>\n",
       "    .dataframe tbody tr th:only-of-type {\n",
       "        vertical-align: middle;\n",
       "    }\n",
       "\n",
       "    .dataframe tbody tr th {\n",
       "        vertical-align: top;\n",
       "    }\n",
       "\n",
       "    .dataframe thead th {\n",
       "        text-align: right;\n",
       "    }\n",
       "</style>\n",
       "<table border=\"1\" class=\"dataframe\">\n",
       "  <thead>\n",
       "    <tr style=\"text-align: right;\">\n",
       "      <th></th>\n",
       "      <th>Customer</th>\n",
       "      <th>State</th>\n",
       "      <th>Response</th>\n",
       "      <th>Coverage</th>\n",
       "      <th>Education</th>\n",
       "      <th>Effective To Date</th>\n",
       "      <th>EmploymentStatus</th>\n",
       "      <th>Gender</th>\n",
       "      <th>Location Code</th>\n",
       "      <th>Marital Status</th>\n",
       "      <th>Policy Type</th>\n",
       "      <th>Policy</th>\n",
       "      <th>Renew Offer Type</th>\n",
       "      <th>Sales Channel</th>\n",
       "      <th>Vehicle Class</th>\n",
       "      <th>Vehicle Size</th>\n",
       "      <th>Vehicle Type</th>\n",
       "    </tr>\n",
       "  </thead>\n",
       "  <tbody>\n",
       "    <tr>\n",
       "      <th>0</th>\n",
       "      <td>DK49336</td>\n",
       "      <td>Arizona</td>\n",
       "      <td>No</td>\n",
       "      <td>Basic</td>\n",
       "      <td>College</td>\n",
       "      <td>2/18/11</td>\n",
       "      <td>Employed</td>\n",
       "      <td>M</td>\n",
       "      <td>Suburban</td>\n",
       "      <td>Married</td>\n",
       "      <td>Corporate Auto</td>\n",
       "      <td>Corporate L3</td>\n",
       "      <td>Offer3</td>\n",
       "      <td>Agent</td>\n",
       "      <td>Four-Door Car</td>\n",
       "      <td>Medsize</td>\n",
       "      <td>NaN</td>\n",
       "    </tr>\n",
       "    <tr>\n",
       "      <th>1</th>\n",
       "      <td>KX64629</td>\n",
       "      <td>California</td>\n",
       "      <td>No</td>\n",
       "      <td>Basic</td>\n",
       "      <td>College</td>\n",
       "      <td>1/18/11</td>\n",
       "      <td>Unemployed</td>\n",
       "      <td>F</td>\n",
       "      <td>Suburban</td>\n",
       "      <td>Single</td>\n",
       "      <td>Personal Auto</td>\n",
       "      <td>Personal L3</td>\n",
       "      <td>Offer4</td>\n",
       "      <td>Call Center</td>\n",
       "      <td>Four-Door Car</td>\n",
       "      <td>Medsize</td>\n",
       "      <td>NaN</td>\n",
       "    </tr>\n",
       "    <tr>\n",
       "      <th>2</th>\n",
       "      <td>LZ68649</td>\n",
       "      <td>Washington</td>\n",
       "      <td>No</td>\n",
       "      <td>Basic</td>\n",
       "      <td>Bachelor</td>\n",
       "      <td>2/10/11</td>\n",
       "      <td>Employed</td>\n",
       "      <td>M</td>\n",
       "      <td>Suburban</td>\n",
       "      <td>Single</td>\n",
       "      <td>Personal Auto</td>\n",
       "      <td>Personal L3</td>\n",
       "      <td>Offer3</td>\n",
       "      <td>Call Center</td>\n",
       "      <td>SUV</td>\n",
       "      <td>Medsize</td>\n",
       "      <td>A</td>\n",
       "    </tr>\n",
       "    <tr>\n",
       "      <th>3</th>\n",
       "      <td>XL78013</td>\n",
       "      <td>Oregon</td>\n",
       "      <td>Yes</td>\n",
       "      <td>Extended</td>\n",
       "      <td>College</td>\n",
       "      <td>1/11/11</td>\n",
       "      <td>Employed</td>\n",
       "      <td>M</td>\n",
       "      <td>Suburban</td>\n",
       "      <td>Single</td>\n",
       "      <td>Corporate Auto</td>\n",
       "      <td>Corporate L3</td>\n",
       "      <td>Offer2</td>\n",
       "      <td>Branch</td>\n",
       "      <td>Four-Door Car</td>\n",
       "      <td>Medsize</td>\n",
       "      <td>A</td>\n",
       "    </tr>\n",
       "    <tr>\n",
       "      <th>4</th>\n",
       "      <td>QA50777</td>\n",
       "      <td>Oregon</td>\n",
       "      <td>No</td>\n",
       "      <td>Premium</td>\n",
       "      <td>Bachelor</td>\n",
       "      <td>1/17/11</td>\n",
       "      <td>Medical Leave</td>\n",
       "      <td>F</td>\n",
       "      <td>Suburban</td>\n",
       "      <td>Married</td>\n",
       "      <td>Personal Auto</td>\n",
       "      <td>Personal L2</td>\n",
       "      <td>Offer1</td>\n",
       "      <td>Branch</td>\n",
       "      <td>Four-Door Car</td>\n",
       "      <td>Medsize</td>\n",
       "      <td>NaN</td>\n",
       "    </tr>\n",
       "    <tr>\n",
       "      <th>...</th>\n",
       "      <td>...</td>\n",
       "      <td>...</td>\n",
       "      <td>...</td>\n",
       "      <td>...</td>\n",
       "      <td>...</td>\n",
       "      <td>...</td>\n",
       "      <td>...</td>\n",
       "      <td>...</td>\n",
       "      <td>...</td>\n",
       "      <td>...</td>\n",
       "      <td>...</td>\n",
       "      <td>...</td>\n",
       "      <td>...</td>\n",
       "      <td>...</td>\n",
       "      <td>...</td>\n",
       "      <td>...</td>\n",
       "      <td>...</td>\n",
       "    </tr>\n",
       "    <tr>\n",
       "      <th>10905</th>\n",
       "      <td>FE99816</td>\n",
       "      <td>Nevada</td>\n",
       "      <td>No</td>\n",
       "      <td>Premium</td>\n",
       "      <td>Bachelor</td>\n",
       "      <td>1/19/11</td>\n",
       "      <td>Unemployed</td>\n",
       "      <td>F</td>\n",
       "      <td>Suburban</td>\n",
       "      <td>Married</td>\n",
       "      <td>Personal Auto</td>\n",
       "      <td>Personal L1</td>\n",
       "      <td>Offer3</td>\n",
       "      <td>Web</td>\n",
       "      <td>Luxury Car</td>\n",
       "      <td>Medsize</td>\n",
       "      <td>A</td>\n",
       "    </tr>\n",
       "    <tr>\n",
       "      <th>10906</th>\n",
       "      <td>KX53892</td>\n",
       "      <td>Oregon</td>\n",
       "      <td>No</td>\n",
       "      <td>Basic</td>\n",
       "      <td>College</td>\n",
       "      <td>1/6/11</td>\n",
       "      <td>Employed</td>\n",
       "      <td>F</td>\n",
       "      <td>Urban</td>\n",
       "      <td>Married</td>\n",
       "      <td>Personal Auto</td>\n",
       "      <td>Personal L3</td>\n",
       "      <td>Offer2</td>\n",
       "      <td>Branch</td>\n",
       "      <td>Four-Door Car</td>\n",
       "      <td>Medsize</td>\n",
       "      <td>A</td>\n",
       "    </tr>\n",
       "    <tr>\n",
       "      <th>10907</th>\n",
       "      <td>TL39050</td>\n",
       "      <td>Arizona</td>\n",
       "      <td>No</td>\n",
       "      <td>Extended</td>\n",
       "      <td>Bachelor</td>\n",
       "      <td>2/6/11</td>\n",
       "      <td>Employed</td>\n",
       "      <td>F</td>\n",
       "      <td>Rural</td>\n",
       "      <td>Married</td>\n",
       "      <td>Corporate Auto</td>\n",
       "      <td>Corporate L3</td>\n",
       "      <td>Offer1</td>\n",
       "      <td>Web</td>\n",
       "      <td>Luxury SUV</td>\n",
       "      <td>Medsize</td>\n",
       "      <td>NaN</td>\n",
       "    </tr>\n",
       "    <tr>\n",
       "      <th>10908</th>\n",
       "      <td>WA60547</td>\n",
       "      <td>California</td>\n",
       "      <td>No</td>\n",
       "      <td>Premium</td>\n",
       "      <td>College</td>\n",
       "      <td>2/13/11</td>\n",
       "      <td>Employed</td>\n",
       "      <td>F</td>\n",
       "      <td>Urban</td>\n",
       "      <td>Divorced</td>\n",
       "      <td>Personal Auto</td>\n",
       "      <td>Personal L1</td>\n",
       "      <td>Offer1</td>\n",
       "      <td>Branch</td>\n",
       "      <td>SUV</td>\n",
       "      <td>Medsize</td>\n",
       "      <td>A</td>\n",
       "    </tr>\n",
       "    <tr>\n",
       "      <th>10909</th>\n",
       "      <td>IV32877</td>\n",
       "      <td>NaN</td>\n",
       "      <td>NaN</td>\n",
       "      <td>Basic</td>\n",
       "      <td>Bachelor</td>\n",
       "      <td>1/8/11</td>\n",
       "      <td>Unemployed</td>\n",
       "      <td>M</td>\n",
       "      <td>Suburban</td>\n",
       "      <td>Single</td>\n",
       "      <td>Personal Auto</td>\n",
       "      <td>Personal L1</td>\n",
       "      <td>Offer4</td>\n",
       "      <td>Web</td>\n",
       "      <td>SUV</td>\n",
       "      <td>Medsize</td>\n",
       "      <td>NaN</td>\n",
       "    </tr>\n",
       "  </tbody>\n",
       "</table>\n",
       "<p>10910 rows × 17 columns</p>\n",
       "</div>"
      ],
      "text/plain": [
       "      Customer       State Response  Coverage Education Effective To Date  \\\n",
       "0      DK49336     Arizona       No     Basic   College           2/18/11   \n",
       "1      KX64629  California       No     Basic   College           1/18/11   \n",
       "2      LZ68649  Washington       No     Basic  Bachelor           2/10/11   \n",
       "3      XL78013      Oregon      Yes  Extended   College           1/11/11   \n",
       "4      QA50777      Oregon       No   Premium  Bachelor           1/17/11   \n",
       "...        ...         ...      ...       ...       ...               ...   \n",
       "10905  FE99816      Nevada       No   Premium  Bachelor           1/19/11   \n",
       "10906  KX53892      Oregon       No     Basic   College            1/6/11   \n",
       "10907  TL39050     Arizona       No  Extended  Bachelor            2/6/11   \n",
       "10908  WA60547  California       No   Premium   College           2/13/11   \n",
       "10909  IV32877         NaN      NaN     Basic  Bachelor            1/8/11   \n",
       "\n",
       "      EmploymentStatus Gender Location Code Marital Status     Policy Type  \\\n",
       "0             Employed      M      Suburban        Married  Corporate Auto   \n",
       "1           Unemployed      F      Suburban         Single   Personal Auto   \n",
       "2             Employed      M      Suburban         Single   Personal Auto   \n",
       "3             Employed      M      Suburban         Single  Corporate Auto   \n",
       "4        Medical Leave      F      Suburban        Married   Personal Auto   \n",
       "...                ...    ...           ...            ...             ...   \n",
       "10905       Unemployed      F      Suburban        Married   Personal Auto   \n",
       "10906         Employed      F         Urban        Married   Personal Auto   \n",
       "10907         Employed      F         Rural        Married  Corporate Auto   \n",
       "10908         Employed      F         Urban       Divorced   Personal Auto   \n",
       "10909       Unemployed      M      Suburban         Single   Personal Auto   \n",
       "\n",
       "             Policy Renew Offer Type Sales Channel  Vehicle Class  \\\n",
       "0      Corporate L3           Offer3         Agent  Four-Door Car   \n",
       "1       Personal L3           Offer4   Call Center  Four-Door Car   \n",
       "2       Personal L3           Offer3   Call Center            SUV   \n",
       "3      Corporate L3           Offer2        Branch  Four-Door Car   \n",
       "4       Personal L2           Offer1        Branch  Four-Door Car   \n",
       "...             ...              ...           ...            ...   \n",
       "10905   Personal L1           Offer3           Web     Luxury Car   \n",
       "10906   Personal L3           Offer2        Branch  Four-Door Car   \n",
       "10907  Corporate L3           Offer1           Web     Luxury SUV   \n",
       "10908   Personal L1           Offer1        Branch            SUV   \n",
       "10909   Personal L1           Offer4           Web            SUV   \n",
       "\n",
       "      Vehicle Size Vehicle Type  \n",
       "0          Medsize          NaN  \n",
       "1          Medsize          NaN  \n",
       "2          Medsize            A  \n",
       "3          Medsize            A  \n",
       "4          Medsize          NaN  \n",
       "...            ...          ...  \n",
       "10905      Medsize            A  \n",
       "10906      Medsize            A  \n",
       "10907      Medsize          NaN  \n",
       "10908      Medsize            A  \n",
       "10909      Medsize          NaN  \n",
       "\n",
       "[10910 rows x 17 columns]"
      ]
     },
     "execution_count": 5,
     "metadata": {},
     "output_type": "execute_result"
    }
   ],
   "source": [
    "categoricals = file.select_dtypes(include='object')\n",
    "categoricals"
   ]
  },
  {
   "cell_type": "code",
   "execution_count": 6,
   "id": "496ee499",
   "metadata": {},
   "outputs": [],
   "source": [
    "import matplotlib.pyplot as plt\n",
    "import seaborn as sns "
   ]
  },
  {
   "cell_type": "code",
   "execution_count": 7,
   "id": "1ac08c17",
   "metadata": {},
   "outputs": [
    {
     "data": {
      "image/png": "[encoded data removed]",
      "text/plain": [
       "<Figure size 360x360 with 1 Axes>"
      ]
     },
     "metadata": {
      "needs_background": "light"
     },
     "output_type": "display_data"
    }
   ],
   "source": [
    "sns.displot(numerical['Customer Lifetime Value'], bins=50)\n",
    "plt.show()"
   ]
  },
  {
   "cell_type": "code",
   "execution_count": 8,
   "id": "2de6adbc",
   "metadata": {},
   "outputs": [
    {
     "data": {
      "image/png": "[encoded data removed]",
      "text/plain": [
       "<Figure size 360x360 with 1 Axes>"
      ]
     },
     "metadata": {
      "needs_background": "light"
     },
     "output_type": "display_data"
    }
   ],
   "source": [
    "sns.displot(numerical['Income'], bins=20)\n",
    "plt.show()"
   ]
  },
  {
   "cell_type": "code",
   "execution_count": 9,
   "id": "06a05f73",
   "metadata": {},
   "outputs": [
    {
     "data": {
      "image/png": "[encoded data removed]",
      "text/plain": [
       "<Figure size 360x360 with 1 Axes>"
      ]
     },
     "metadata": {
      "needs_background": "light"
     },
     "output_type": "display_data"
    }
   ],
   "source": [
    "sns.displot(numerical['Monthly Premium Auto'], bins=60)\n",
    "plt.show()"
   ]
  },
  {
   "cell_type": "code",
   "execution_count": 10,
   "id": "ee483c97",
   "metadata": {},
   "outputs": [
    {
     "data": {
      "image/png": "[encoded data removed]",
      "text/plain": [
       "<Figure size 360x360 with 1 Axes>"
      ]
     },
     "metadata": {
      "needs_background": "light"
     },
     "output_type": "display_data"
    }
   ],
   "source": [
    "sns.displot(numerical['Months Since Last Claim'], bins=60)\n",
    "plt.show()"
   ]
  },
  {
   "cell_type": "code",
   "execution_count": 11,
   "id": "e5fb4ffb",
   "metadata": {},
   "outputs": [
    {
     "data": {
      "image/png": "[encoded data removed]",
      "text/plain": [
       "<Figure size 360x360 with 1 Axes>"
      ]
     },
     "metadata": {
      "needs_background": "light"
     },
     "output_type": "display_data"
    }
   ],
   "source": [
    "sns.displot(numerical['Months Since Policy Inception'], bins=10)\n",
    "plt.show()"
   ]
  },
  {
   "cell_type": "code",
   "execution_count": 12,
   "id": "ce80aeff",
   "metadata": {},
   "outputs": [
    {
     "data": {
      "image/png": "[encoded data removed]",
      "text/plain": [
       "<Figure size 360x360 with 1 Axes>"
      ]
     },
     "metadata": {
      "needs_background": "light"
     },
     "output_type": "display_data"
    }
   ],
   "source": [
    "sns.displot(numerical['Number of Open Complaints'], bins=20)\n",
    "plt.show()"
   ]
  },
  {
   "cell_type": "code",
   "execution_count": 13,
   "id": "f333b81a",
   "metadata": {},
   "outputs": [
    {
     "data": {
      "image/png": "[encoded data removed]",
      "text/plain": [
       "<Figure size 360x360 with 1 Axes>"
      ]
     },
     "metadata": {
      "needs_background": "light"
     },
     "output_type": "display_data"
    }
   ],
   "source": [
    "sns.displot(numerical['Number of Policies'], bins=20)\n",
    "plt.show()"
   ]
  },
  {
   "cell_type": "code",
   "execution_count": 14,
   "id": "6721d621",
   "metadata": {},
   "outputs": [
    {
     "data": {
      "image/png": "[encoded data removed]",
      "text/plain": [
       "<Figure size 360x360 with 1 Axes>"
      ]
     },
     "metadata": {
      "needs_background": "light"
     },
     "output_type": "display_data"
    }
   ],
   "source": [
    "sns.displot(numerical['Total Claim Amount'], bins=20)\n",
    "plt.show()"
   ]
  },
  {
   "cell_type": "code",
   "execution_count": 15,
   "id": "737e7b7e",
   "metadata": {},
   "outputs": [
    {
     "data": {
      "image/png": "[encoded data removed]",
      "text/plain": [
       "<Figure size 432x288 with 1 Axes>"
      ]
     },
     "metadata": {
      "needs_background": "light"
     },
     "output_type": "display_data"
    }
   ],
   "source": [
    "plt.hist(x=\"Customer Lifetime Value\", data=numerical, bins=30)\n",
    "plt.show()"
   ]
  },
  {
   "cell_type": "code",
   "execution_count": 16,
   "id": "003ec8c7",
   "metadata": {
    "scrolled": false
   },
   "outputs": [
    {
     "data": {
      "image/png": "[encoded data removed]",
      "text/plain": [
       "<Figure size 432x288 with 1 Axes>"
      ]
     },
     "metadata": {
      "needs_background": "light"
     },
     "output_type": "display_data"
    },
    {
     "data": {
      "image/png": "[encoded data removed]",
      "text/plain": [
       "<Figure size 432x288 with 1 Axes>"
      ]
     },
     "metadata": {
      "needs_background": "light"
     },
     "output_type": "display_data"
    },
    {
     "data": {
      "image/png": "[encoded data removed]",
      "text/plain": [
       "<Figure size 432x288 with 1 Axes>"
      ]
     },
     "metadata": {
      "needs_background": "light"
     },
     "output_type": "display_data"
    },
    {
     "data": {
      "image/png": "[encoded data removed]",
      "text/plain": [
       "<Figure size 432x288 with 1 Axes>"
      ]
     },
     "metadata": {
      "needs_background": "light"
     },
     "output_type": "display_data"
    },
    {
     "data": {
      "image/png": "[encoded data removed]",
      "text/plain": [
       "<Figure size 432x288 with 1 Axes>"
      ]
     },
     "metadata": {
      "needs_background": "light"
     },
     "output_type": "display_data"
    },
    {
     "data": {
      "image/png": "[encoded data removed]",
      "text/plain": [
       "<Figure size 432x288 with 1 Axes>"
      ]
     },
     "metadata": {
      "needs_background": "light"
     },
     "output_type": "display_data"
    },
    {
     "data": {
      "image/png": "[encoded data removed]",
      "text/plain": [
       "<Figure size 432x288 with 1 Axes>"
      ]
     },
     "metadata": {
      "needs_background": "light"
     },
     "output_type": "display_data"
    },
    {
     "data": {
      "image/png": "[encoded data removed]",
      "text/plain": [
       "<Figure size 432x288 with 1 Axes>"
      ]
     },
     "metadata": {
      "needs_background": "light"
     },
     "output_type": "display_data"
    }
   ],
   "source": [
    "for b in numerical.columns:\n",
    "    plt.hist(x=b, data=numerical, bins=50)\n",
    "    plt.show()"
   ]
  },
  {
   "cell_type": "code",
   "execution_count": 17,
   "id": "32c7f65e",
   "metadata": {},
   "outputs": [
    {
     "data": {
      "image/png": "[encoded data removed]",
      "text/plain": [
       "<Figure size 360x360 with 1 Axes>"
      ]
     },
     "metadata": {
      "needs_background": "light"
     },
     "output_type": "display_data"
    }
   ],
   "source": [
    "sns.displot(numerical['Months Since Policy Inception'], bins=10)\n",
    "plt.show()\n",
    "\n",
    "# for the statement of 'Do the distributions for different numerical variables look like a normal distribution'"
   ]
  },
  {
   "cell_type": "code",
   "execution_count": 19,
   "id": "9ff49332",
   "metadata": {},
   "outputs": [
    {
     "data": {
      "image/png": "[encoded data removed]",
      "text/plain": [
       "<Figure size 360x360 with 1 Axes>"
      ]
     },
     "metadata": {
      "needs_background": "light"
     },
     "output_type": "display_data"
    }
   ],
   "source": [
    "sns.displot(data= numerical['Income'][numerical['Income'] >0], bins=20)\n",
    "plt.show()"
   ]
  },
  {
   "cell_type": "code",
   "execution_count": 20,
   "id": "5dd14522",
   "metadata": {},
   "outputs": [
    {
     "data": {
      "image/png": "[encoded data removed]",
      "text/plain": [
       "<Figure size 360x360 with 1 Axes>"
      ]
     },
     "metadata": {
      "needs_background": "light"
     },
     "output_type": "display_data"
    }
   ],
   "source": [
    "sns.displot(data= numerical['Total Claim Amount'], bins=30)\n",
    "plt.show()"
   ]
  },
  {
   "cell_type": "code",
   "execution_count": 23,
   "id": "61a64dc1",
   "metadata": {},
   "outputs": [
    {
     "data": {
      "text/html": [
       "<div>\n",
       "<style scoped>\n",
       "    .dataframe tbody tr th:only-of-type {\n",
       "        vertical-align: middle;\n",
       "    }\n",
       "\n",
       "    .dataframe tbody tr th {\n",
       "        vertical-align: top;\n",
       "    }\n",
       "\n",
       "    .dataframe thead th {\n",
       "        text-align: right;\n",
       "    }\n",
       "</style>\n",
       "<table border=\"1\" class=\"dataframe\">\n",
       "  <thead>\n",
       "    <tr style=\"text-align: right;\">\n",
       "      <th></th>\n",
       "      <th>Customer Lifetime Value</th>\n",
       "      <th>Income</th>\n",
       "      <th>Monthly Premium Auto</th>\n",
       "      <th>Months Since Last Claim</th>\n",
       "      <th>Months Since Policy Inception</th>\n",
       "      <th>Number of Open Complaints</th>\n",
       "      <th>Number of Policies</th>\n",
       "      <th>Total Claim Amount</th>\n",
       "    </tr>\n",
       "  </thead>\n",
       "  <tbody>\n",
       "    <tr>\n",
       "      <th>Customer Lifetime Value</th>\n",
       "      <td>1.000000</td>\n",
       "      <td>0.028306</td>\n",
       "      <td>0.403069</td>\n",
       "      <td>0.016052</td>\n",
       "      <td>0.016960</td>\n",
       "      <td>-0.032243</td>\n",
       "      <td>0.016024</td>\n",
       "      <td>0.232626</td>\n",
       "    </tr>\n",
       "    <tr>\n",
       "      <th>Income</th>\n",
       "      <td>0.028306</td>\n",
       "      <td>1.000000</td>\n",
       "      <td>-0.009788</td>\n",
       "      <td>-0.023814</td>\n",
       "      <td>-0.005903</td>\n",
       "      <td>0.007163</td>\n",
       "      <td>-0.009960</td>\n",
       "      <td>-0.354141</td>\n",
       "    </tr>\n",
       "    <tr>\n",
       "      <th>Monthly Premium Auto</th>\n",
       "      <td>0.403069</td>\n",
       "      <td>-0.009788</td>\n",
       "      <td>1.000000</td>\n",
       "      <td>0.008744</td>\n",
       "      <td>0.018953</td>\n",
       "      <td>-0.010350</td>\n",
       "      <td>-0.020505</td>\n",
       "      <td>0.631799</td>\n",
       "    </tr>\n",
       "    <tr>\n",
       "      <th>Months Since Last Claim</th>\n",
       "      <td>0.016052</td>\n",
       "      <td>-0.023814</td>\n",
       "      <td>0.008744</td>\n",
       "      <td>1.000000</td>\n",
       "      <td>-0.039318</td>\n",
       "      <td>0.002246</td>\n",
       "      <td>0.007678</td>\n",
       "      <td>0.013137</td>\n",
       "    </tr>\n",
       "    <tr>\n",
       "      <th>Months Since Policy Inception</th>\n",
       "      <td>0.016960</td>\n",
       "      <td>-0.005903</td>\n",
       "      <td>0.018953</td>\n",
       "      <td>-0.039318</td>\n",
       "      <td>1.000000</td>\n",
       "      <td>0.004376</td>\n",
       "      <td>-0.009123</td>\n",
       "      <td>0.003095</td>\n",
       "    </tr>\n",
       "    <tr>\n",
       "      <th>Number of Open Complaints</th>\n",
       "      <td>-0.032243</td>\n",
       "      <td>0.007163</td>\n",
       "      <td>-0.010350</td>\n",
       "      <td>0.002246</td>\n",
       "      <td>0.004376</td>\n",
       "      <td>1.000000</td>\n",
       "      <td>0.004098</td>\n",
       "      <td>-0.011379</td>\n",
       "    </tr>\n",
       "    <tr>\n",
       "      <th>Number of Policies</th>\n",
       "      <td>0.016024</td>\n",
       "      <td>-0.009960</td>\n",
       "      <td>-0.020505</td>\n",
       "      <td>0.007678</td>\n",
       "      <td>-0.009123</td>\n",
       "      <td>0.004098</td>\n",
       "      <td>1.000000</td>\n",
       "      <td>-0.008923</td>\n",
       "    </tr>\n",
       "    <tr>\n",
       "      <th>Total Claim Amount</th>\n",
       "      <td>0.232626</td>\n",
       "      <td>-0.354141</td>\n",
       "      <td>0.631799</td>\n",
       "      <td>0.013137</td>\n",
       "      <td>0.003095</td>\n",
       "      <td>-0.011379</td>\n",
       "      <td>-0.008923</td>\n",
       "      <td>1.000000</td>\n",
       "    </tr>\n",
       "  </tbody>\n",
       "</table>\n",
       "</div>"
      ],
      "text/plain": [
       "                               Customer Lifetime Value    Income  \\\n",
       "Customer Lifetime Value                       1.000000  0.028306   \n",
       "Income                                        0.028306  1.000000   \n",
       "Monthly Premium Auto                          0.403069 -0.009788   \n",
       "Months Since Last Claim                       0.016052 -0.023814   \n",
       "Months Since Policy Inception                 0.016960 -0.005903   \n",
       "Number of Open Complaints                    -0.032243  0.007163   \n",
       "Number of Policies                            0.016024 -0.009960   \n",
       "Total Claim Amount                            0.232626 -0.354141   \n",
       "\n",
       "                               Monthly Premium Auto  Months Since Last Claim  \\\n",
       "Customer Lifetime Value                    0.403069                 0.016052   \n",
       "Income                                    -0.009788                -0.023814   \n",
       "Monthly Premium Auto                       1.000000                 0.008744   \n",
       "Months Since Last Claim                    0.008744                 1.000000   \n",
       "Months Since Policy Inception              0.018953                -0.039318   \n",
       "Number of Open Complaints                 -0.010350                 0.002246   \n",
       "Number of Policies                        -0.020505                 0.007678   \n",
       "Total Claim Amount                         0.631799                 0.013137   \n",
       "\n",
       "                               Months Since Policy Inception  \\\n",
       "Customer Lifetime Value                             0.016960   \n",
       "Income                                             -0.005903   \n",
       "Monthly Premium Auto                                0.018953   \n",
       "Months Since Last Claim                            -0.039318   \n",
       "Months Since Policy Inception                       1.000000   \n",
       "Number of Open Complaints                           0.004376   \n",
       "Number of Policies                                 -0.009123   \n",
       "Total Claim Amount                                  0.003095   \n",
       "\n",
       "                               Number of Open Complaints  Number of Policies  \\\n",
       "Customer Lifetime Value                        -0.032243            0.016024   \n",
       "Income                                          0.007163           -0.009960   \n",
       "Monthly Premium Auto                           -0.010350           -0.020505   \n",
       "Months Since Last Claim                         0.002246            0.007678   \n",
       "Months Since Policy Inception                   0.004376           -0.009123   \n",
       "Number of Open Complaints                       1.000000            0.004098   \n",
       "Number of Policies                              0.004098            1.000000   \n",
       "Total Claim Amount                             -0.011379           -0.008923   \n",
       "\n",
       "                               Total Claim Amount  \n",
       "Customer Lifetime Value                  0.232626  \n",
       "Income                                  -0.354141  \n",
       "Monthly Premium Auto                     0.631799  \n",
       "Months Since Last Claim                  0.013137  \n",
       "Months Since Policy Inception            0.003095  \n",
       "Number of Open Complaints               -0.011379  \n",
       "Number of Policies                      -0.008923  \n",
       "Total Claim Amount                       1.000000  "
      ]
     },
     "execution_count": 23,
     "metadata": {},
     "output_type": "execute_result"
    }
   ],
   "source": [
    "cor_mat = numerical.corr()\n",
    "cor_mat"
   ]
  },
  {
   "cell_type": "code",
   "execution_count": 24,
   "id": "9d74ab6b",
   "metadata": {},
   "outputs": [
    {
     "data": {
      "image/png": "[encoded data removed]",
      "text/plain": [
       "<Figure size 432x288 with 2 Axes>"
      ]
     },
     "metadata": {
      "needs_background": "light"
     },
     "output_type": "display_data"
    }
   ],
   "source": [
    "sns.heatmap(cor_mat, annot=True)\n",
    "plt.show()"
   ]
  },
  {
   "cell_type": "code",
   "execution_count": null,
   "id": "38d178dc",
   "metadata": {},
   "outputs": [],
   "source": [
    "# they are not highly corrolated so we cannot drop anything."
   ]
  },
  {
   "cell_type": "markdown",
   "id": "146df7ab",
   "metadata": {},
   "source": [
    "## round 5"
   ]
  },
  {
   "cell_type": "code",
   "execution_count": 29,
   "id": "8e812697",
   "metadata": {},
   "outputs": [
    {
     "data": {
      "text/html": [
       "<div>\n",
       "<style scoped>\n",
       "    .dataframe tbody tr th:only-of-type {\n",
       "        vertical-align: middle;\n",
       "    }\n",
       "\n",
       "    .dataframe tbody tr th {\n",
       "        vertical-align: top;\n",
       "    }\n",
       "\n",
       "    .dataframe thead th {\n",
       "        text-align: right;\n",
       "    }\n",
       "</style>\n",
       "<table border=\"1\" class=\"dataframe\">\n",
       "  <thead>\n",
       "    <tr style=\"text-align: right;\">\n",
       "      <th></th>\n",
       "      <th>Customer Lifetime Value</th>\n",
       "      <th>Income</th>\n",
       "      <th>Monthly Premium Auto</th>\n",
       "      <th>Months Since Last Claim</th>\n",
       "      <th>Months Since Policy Inception</th>\n",
       "      <th>Number of Open Complaints</th>\n",
       "      <th>Number of Policies</th>\n",
       "    </tr>\n",
       "  </thead>\n",
       "  <tbody>\n",
       "    <tr>\n",
       "      <th>0</th>\n",
       "      <td>4809.216960</td>\n",
       "      <td>48029</td>\n",
       "      <td>61</td>\n",
       "      <td>7.0</td>\n",
       "      <td>52</td>\n",
       "      <td>0.0</td>\n",
       "      <td>9</td>\n",
       "    </tr>\n",
       "    <tr>\n",
       "      <th>1</th>\n",
       "      <td>2228.525238</td>\n",
       "      <td>0</td>\n",
       "      <td>64</td>\n",
       "      <td>3.0</td>\n",
       "      <td>26</td>\n",
       "      <td>0.0</td>\n",
       "      <td>1</td>\n",
       "    </tr>\n",
       "    <tr>\n",
       "      <th>2</th>\n",
       "      <td>14947.917300</td>\n",
       "      <td>22139</td>\n",
       "      <td>100</td>\n",
       "      <td>34.0</td>\n",
       "      <td>31</td>\n",
       "      <td>0.0</td>\n",
       "      <td>2</td>\n",
       "    </tr>\n",
       "    <tr>\n",
       "      <th>3</th>\n",
       "      <td>22332.439460</td>\n",
       "      <td>49078</td>\n",
       "      <td>97</td>\n",
       "      <td>10.0</td>\n",
       "      <td>3</td>\n",
       "      <td>0.0</td>\n",
       "      <td>2</td>\n",
       "    </tr>\n",
       "    <tr>\n",
       "      <th>4</th>\n",
       "      <td>9025.067525</td>\n",
       "      <td>23675</td>\n",
       "      <td>117</td>\n",
       "      <td>NaN</td>\n",
       "      <td>31</td>\n",
       "      <td>NaN</td>\n",
       "      <td>7</td>\n",
       "    </tr>\n",
       "    <tr>\n",
       "      <th>...</th>\n",
       "      <td>...</td>\n",
       "      <td>...</td>\n",
       "      <td>...</td>\n",
       "      <td>...</td>\n",
       "      <td>...</td>\n",
       "      <td>...</td>\n",
       "      <td>...</td>\n",
       "    </tr>\n",
       "    <tr>\n",
       "      <th>10905</th>\n",
       "      <td>15563.369440</td>\n",
       "      <td>0</td>\n",
       "      <td>253</td>\n",
       "      <td>NaN</td>\n",
       "      <td>40</td>\n",
       "      <td>NaN</td>\n",
       "      <td>7</td>\n",
       "    </tr>\n",
       "    <tr>\n",
       "      <th>10906</th>\n",
       "      <td>5259.444853</td>\n",
       "      <td>61146</td>\n",
       "      <td>65</td>\n",
       "      <td>7.0</td>\n",
       "      <td>68</td>\n",
       "      <td>0.0</td>\n",
       "      <td>6</td>\n",
       "    </tr>\n",
       "    <tr>\n",
       "      <th>10907</th>\n",
       "      <td>23893.304100</td>\n",
       "      <td>39837</td>\n",
       "      <td>201</td>\n",
       "      <td>11.0</td>\n",
       "      <td>63</td>\n",
       "      <td>0.0</td>\n",
       "      <td>2</td>\n",
       "    </tr>\n",
       "    <tr>\n",
       "      <th>10908</th>\n",
       "      <td>11971.977650</td>\n",
       "      <td>64195</td>\n",
       "      <td>158</td>\n",
       "      <td>0.0</td>\n",
       "      <td>27</td>\n",
       "      <td>4.0</td>\n",
       "      <td>6</td>\n",
       "    </tr>\n",
       "    <tr>\n",
       "      <th>10909</th>\n",
       "      <td>6857.519928</td>\n",
       "      <td>0</td>\n",
       "      <td>101</td>\n",
       "      <td>31.0</td>\n",
       "      <td>1</td>\n",
       "      <td>0.0</td>\n",
       "      <td>3</td>\n",
       "    </tr>\n",
       "  </tbody>\n",
       "</table>\n",
       "<p>10910 rows × 7 columns</p>\n",
       "</div>"
      ],
      "text/plain": [
       "       Customer Lifetime Value  Income  Monthly Premium Auto  \\\n",
       "0                  4809.216960   48029                    61   \n",
       "1                  2228.525238       0                    64   \n",
       "2                 14947.917300   22139                   100   \n",
       "3                 22332.439460   49078                    97   \n",
       "4                  9025.067525   23675                   117   \n",
       "...                        ...     ...                   ...   \n",
       "10905             15563.369440       0                   253   \n",
       "10906              5259.444853   61146                    65   \n",
       "10907             23893.304100   39837                   201   \n",
       "10908             11971.977650   64195                   158   \n",
       "10909              6857.519928       0                   101   \n",
       "\n",
       "       Months Since Last Claim  Months Since Policy Inception  \\\n",
       "0                          7.0                             52   \n",
       "1                          3.0                             26   \n",
       "2                         34.0                             31   \n",
       "3                         10.0                              3   \n",
       "4                          NaN                             31   \n",
       "...                        ...                            ...   \n",
       "10905                      NaN                             40   \n",
       "10906                      7.0                             68   \n",
       "10907                     11.0                             63   \n",
       "10908                      0.0                             27   \n",
       "10909                     31.0                              1   \n",
       "\n",
       "       Number of Open Complaints  Number of Policies  \n",
       "0                            0.0                   9  \n",
       "1                            0.0                   1  \n",
       "2                            0.0                   2  \n",
       "3                            0.0                   2  \n",
       "4                            NaN                   7  \n",
       "...                          ...                 ...  \n",
       "10905                        NaN                   7  \n",
       "10906                        0.0                   6  \n",
       "10907                        0.0                   2  \n",
       "10908                        4.0                   6  \n",
       "10909                        0.0                   3  \n",
       "\n",
       "[10910 rows x 7 columns]"
      ]
     },
     "execution_count": 29,
     "metadata": {},
     "output_type": "execute_result"
    }
   ],
   "source": [
    "# X,y Split\n",
    "y = numerical['Total Claim Amount']\n",
    "X = numerical.drop(['Total Claim Amount'], axis=1)\n",
    "X"
   ]
  },
  {
   "cell_type": "code",
   "execution_count": 31,
   "id": "dfda9fe2",
   "metadata": {},
   "outputs": [],
   "source": [
    "from sklearn.preprocessing import MinMaxScaler\n",
    "# from sklearn.preprocessing import StandardScaler"
   ]
  },
  {
   "cell_type": "code",
   "execution_count": 38,
   "id": "8bd08023",
   "metadata": {},
   "outputs": [],
   "source": [
    "Edit = MinMaxScaler().fit(numerical)\n",
    "alist = Edit.transform(numerical)\n",
    "alist\n",
    "\n",
    "data_normalized = pd.DataFrame(alist, columns=numerical.columns) "
   ]
  },
  {
   "cell_type": "code",
   "execution_count": 39,
   "id": "d0c19381",
   "metadata": {
    "scrolled": false
   },
   "outputs": [
    {
     "data": {
      "image/png": "[encoded data removed]",
      "text/plain": [
       "<Figure size 432x288 with 1 Axes>"
      ]
     },
     "metadata": {
      "needs_background": "light"
     },
     "output_type": "display_data"
    },
    {
     "data": {
      "image/png": "[encoded data removed]",
      "text/plain": [
       "<Figure size 432x288 with 1 Axes>"
      ]
     },
     "metadata": {
      "needs_background": "light"
     },
     "output_type": "display_data"
    },
    {
     "data": {
      "image/png": "[encoded data removed]",
      "text/plain": [
       "<Figure size 432x288 with 1 Axes>"
      ]
     },
     "metadata": {
      "needs_background": "light"
     },
     "output_type": "display_data"
    },
    {
     "data": {
      "image/png": "[encoded data removed]",
      "text/plain": [
       "<Figure size 432x288 with 1 Axes>"
      ]
     },
     "metadata": {
      "needs_background": "light"
     },
     "output_type": "display_data"
    },
    {
     "data": {
      "image/png": "[encoded data removed]",
      "text/plain": [
       "<Figure size 432x288 with 1 Axes>"
      ]
     },
     "metadata": {
      "needs_background": "light"
     },
     "output_type": "display_data"
    },
    {
     "data": {
      "image/png": "[encoded data removed]",
      "text/plain": [
       "<Figure size 432x288 with 1 Axes>"
      ]
     },
     "metadata": {
      "needs_background": "light"
     },
     "output_type": "display_data"
    },
    {
     "data": {
      "image/png": "[encoded data removed]",
      "text/plain": [
       "<Figure size 432x288 with 1 Axes>"
      ]
     },
     "metadata": {
      "needs_background": "light"
     },
     "output_type": "display_data"
    },
    {
     "data": {
      "image/png": "[encoded data removed]",
      "text/plain": [
       "<Figure size 432x288 with 1 Axes>"
      ]
     },
     "metadata": {
      "needs_background": "light"
     },
     "output_type": "display_data"
    }
   ],
   "source": [
    "for col in data_normalized.columns:\n",
    "    plt.hist(x=col, data=data_normalized, bins=50)\n",
    "    plt.show()"
   ]
  },
  {
   "cell_type": "code",
   "execution_count": 41,
   "id": "ac3fd629",
   "metadata": {},
   "outputs": [
    {
     "data": {
      "text/html": [
       "<div>\n",
       "<style scoped>\n",
       "    .dataframe tbody tr th:only-of-type {\n",
       "        vertical-align: middle;\n",
       "    }\n",
       "\n",
       "    .dataframe tbody tr th {\n",
       "        vertical-align: top;\n",
       "    }\n",
       "\n",
       "    .dataframe thead th {\n",
       "        text-align: right;\n",
       "    }\n",
       "</style>\n",
       "<table border=\"1\" class=\"dataframe\">\n",
       "  <thead>\n",
       "    <tr style=\"text-align: right;\">\n",
       "      <th></th>\n",
       "      <th>Customer Lifetime Value</th>\n",
       "      <th>Income</th>\n",
       "      <th>Monthly Premium Auto</th>\n",
       "      <th>Months Since Last Claim</th>\n",
       "      <th>Months Since Policy Inception</th>\n",
       "      <th>Number of Open Complaints</th>\n",
       "      <th>Number of Policies</th>\n",
       "      <th>Total Claim Amount</th>\n",
       "    </tr>\n",
       "  </thead>\n",
       "  <tbody>\n",
       "    <tr>\n",
       "      <th>0</th>\n",
       "      <td>0.035752</td>\n",
       "      <td>0.480381</td>\n",
       "      <td>0.000000</td>\n",
       "      <td>0.200000</td>\n",
       "      <td>0.525253</td>\n",
       "      <td>0.0</td>\n",
       "      <td>1.000</td>\n",
       "      <td>0.101171</td>\n",
       "    </tr>\n",
       "    <tr>\n",
       "      <th>1</th>\n",
       "      <td>0.004059</td>\n",
       "      <td>0.000000</td>\n",
       "      <td>0.012658</td>\n",
       "      <td>0.085714</td>\n",
       "      <td>0.262626</td>\n",
       "      <td>0.0</td>\n",
       "      <td>0.000</td>\n",
       "      <td>0.257445</td>\n",
       "    </tr>\n",
       "    <tr>\n",
       "      <th>2</th>\n",
       "      <td>0.160264</td>\n",
       "      <td>0.221432</td>\n",
       "      <td>0.164557</td>\n",
       "      <td>0.971429</td>\n",
       "      <td>0.313131</td>\n",
       "      <td>0.0</td>\n",
       "      <td>0.125</td>\n",
       "      <td>0.165875</td>\n",
       "    </tr>\n",
       "    <tr>\n",
       "      <th>3</th>\n",
       "      <td>0.250953</td>\n",
       "      <td>0.490873</td>\n",
       "      <td>0.151899</td>\n",
       "      <td>0.285714</td>\n",
       "      <td>0.030303</td>\n",
       "      <td>0.0</td>\n",
       "      <td>0.125</td>\n",
       "      <td>0.167263</td>\n",
       "    </tr>\n",
       "    <tr>\n",
       "      <th>4</th>\n",
       "      <td>0.087527</td>\n",
       "      <td>0.236795</td>\n",
       "      <td>0.236287</td>\n",
       "      <td>NaN</td>\n",
       "      <td>0.313131</td>\n",
       "      <td>NaN</td>\n",
       "      <td>0.750</td>\n",
       "      <td>0.244657</td>\n",
       "    </tr>\n",
       "    <tr>\n",
       "      <th>...</th>\n",
       "      <td>...</td>\n",
       "      <td>...</td>\n",
       "      <td>...</td>\n",
       "      <td>...</td>\n",
       "      <td>...</td>\n",
       "      <td>...</td>\n",
       "      <td>...</td>\n",
       "      <td>...</td>\n",
       "    </tr>\n",
       "    <tr>\n",
       "      <th>10905</th>\n",
       "      <td>0.167823</td>\n",
       "      <td>0.000000</td>\n",
       "      <td>0.810127</td>\n",
       "      <td>NaN</td>\n",
       "      <td>0.404040</td>\n",
       "      <td>NaN</td>\n",
       "      <td>0.750</td>\n",
       "      <td>0.419717</td>\n",
       "    </tr>\n",
       "    <tr>\n",
       "      <th>10906</th>\n",
       "      <td>0.041281</td>\n",
       "      <td>0.611576</td>\n",
       "      <td>0.016878</td>\n",
       "      <td>0.200000</td>\n",
       "      <td>0.686869</td>\n",
       "      <td>0.0</td>\n",
       "      <td>0.625</td>\n",
       "      <td>0.094333</td>\n",
       "    </tr>\n",
       "    <tr>\n",
       "      <th>10907</th>\n",
       "      <td>0.270122</td>\n",
       "      <td>0.398446</td>\n",
       "      <td>0.590717</td>\n",
       "      <td>0.314286</td>\n",
       "      <td>0.636364</td>\n",
       "      <td>0.0</td>\n",
       "      <td>0.125</td>\n",
       "      <td>0.131763</td>\n",
       "    </tr>\n",
       "    <tr>\n",
       "      <th>10908</th>\n",
       "      <td>0.123717</td>\n",
       "      <td>0.642072</td>\n",
       "      <td>0.409283</td>\n",
       "      <td>0.000000</td>\n",
       "      <td>0.272727</td>\n",
       "      <td>0.8</td>\n",
       "      <td>0.625</td>\n",
       "      <td>0.213674</td>\n",
       "    </tr>\n",
       "    <tr>\n",
       "      <th>10909</th>\n",
       "      <td>0.060907</td>\n",
       "      <td>0.000000</td>\n",
       "      <td>0.168776</td>\n",
       "      <td>0.885714</td>\n",
       "      <td>0.010101</td>\n",
       "      <td>0.0</td>\n",
       "      <td>0.250</td>\n",
       "      <td>0.353118</td>\n",
       "    </tr>\n",
       "  </tbody>\n",
       "</table>\n",
       "<p>10910 rows × 8 columns</p>\n",
       "</div>"
      ],
      "text/plain": [
       "       Customer Lifetime Value    Income  Monthly Premium Auto  \\\n",
       "0                     0.035752  0.480381              0.000000   \n",
       "1                     0.004059  0.000000              0.012658   \n",
       "2                     0.160264  0.221432              0.164557   \n",
       "3                     0.250953  0.490873              0.151899   \n",
       "4                     0.087527  0.236795              0.236287   \n",
       "...                        ...       ...                   ...   \n",
       "10905                 0.167823  0.000000              0.810127   \n",
       "10906                 0.041281  0.611576              0.016878   \n",
       "10907                 0.270122  0.398446              0.590717   \n",
       "10908                 0.123717  0.642072              0.409283   \n",
       "10909                 0.060907  0.000000              0.168776   \n",
       "\n",
       "       Months Since Last Claim  Months Since Policy Inception  \\\n",
       "0                     0.200000                       0.525253   \n",
       "1                     0.085714                       0.262626   \n",
       "2                     0.971429                       0.313131   \n",
       "3                     0.285714                       0.030303   \n",
       "4                          NaN                       0.313131   \n",
       "...                        ...                            ...   \n",
       "10905                      NaN                       0.404040   \n",
       "10906                 0.200000                       0.686869   \n",
       "10907                 0.314286                       0.636364   \n",
       "10908                 0.000000                       0.272727   \n",
       "10909                 0.885714                       0.010101   \n",
       "\n",
       "       Number of Open Complaints  Number of Policies  Total Claim Amount  \n",
       "0                            0.0               1.000            0.101171  \n",
       "1                            0.0               0.000            0.257445  \n",
       "2                            0.0               0.125            0.165875  \n",
       "3                            0.0               0.125            0.167263  \n",
       "4                            NaN               0.750            0.244657  \n",
       "...                          ...                 ...                 ...  \n",
       "10905                        NaN               0.750            0.419717  \n",
       "10906                        0.0               0.625            0.094333  \n",
       "10907                        0.0               0.125            0.131763  \n",
       "10908                        0.8               0.625            0.213674  \n",
       "10909                        0.0               0.250            0.353118  \n",
       "\n",
       "[10910 rows x 8 columns]"
      ]
     },
     "execution_count": 41,
     "metadata": {},
     "output_type": "execute_result"
    }
   ],
   "source": [
    "pd.DataFrame(alist, columns=numerical.columns) "
   ]
  },
  {
   "cell_type": "code",
   "execution_count": null,
   "id": "87a4a7ba",
   "metadata": {},
   "outputs": [],
   "source": []
  }
 ],
 "metadata": {
  "kernelspec": {
   "display_name": "Python 3",
   "language": "python",
   "name": "python3"
  },
  "language_info": {
   "codemirror_mode": {
    "name": "ipython",
    "version": 3
   },
   "file_extension": ".py",
   "mimetype": "text/x-python",
   "name": "python",
   "nbconvert_exporter": "python",
   "pygments_lexer": "ipython3",
   "version": "3.8.8"
  }
 },
 "nbformat": 4,
 "nbformat_minor": 5
}
